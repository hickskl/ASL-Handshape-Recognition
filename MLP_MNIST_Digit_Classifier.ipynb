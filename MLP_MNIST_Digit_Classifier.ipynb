{
  "nbformat": 4,
  "nbformat_minor": 0,
  "metadata": {
    "colab": {
      "name": "MLP-MNIST-Digit-Classifier.ipynb",
      "provenance": [],
      "collapsed_sections": [],
      "include_colab_link": true
    },
    "kernelspec": {
      "name": "python3",
      "display_name": "Python 3"
    },
    "language_info": {
      "name": "python"
    }
  },
  "cells": [
    {
      "cell_type": "markdown",
      "metadata": {
        "id": "view-in-github",
        "colab_type": "text"
      },
      "source": [
        "<a href=\"https://colab.research.google.com/github/hickskl/MLP-ASL-Handshape-Classifier/blob/main/MLP_MNIST_Digit_Classifier.ipynb\" target=\"_parent\"><img src=\"https://colab.research.google.com/assets/colab-badge.svg\" alt=\"Open In Colab\"/></a>"
      ]
    },
    {
      "cell_type": "code",
      "metadata": {
        "colab": {
          "base_uri": "https://localhost:8080/"
        },
        "id": "Ufzc9KdVMeV0",
        "outputId": "a0409ace-7a25-486c-a014-552d8321921b"
      },
      "source": [
        "import tensorflow as tf\n",
        "from keras.utils import to_categorical\n",
        "from matplotlib import pyplot\n",
        "\n",
        "mnist = tf.keras.datasets.mnist\n",
        "\n",
        "# INPUT: Images are 28x28 pixels, so 784 in total.\n",
        "# OUTPUT: Probability array of size 10, for each numeral 0-9.\n",
        "\n",
        "#     x_train: train images, numpy array of length 28x28x60000\n",
        "#     y_train: train labels, numpy array of size 60000\n",
        "#     x_test: test images, numpy array of size 28x28x10000\n",
        "#     y_test: test labels, numpy array of size 10000\n",
        "(x_train, y_train), (x_test, y_test) = mnist.load_data()\n",
        "\n",
        "# Converting integer values to float values\n",
        "x_train, x_test = x_train / 255.0, x_test / 255.0\n",
        "\n",
        "# Using a Sequential model to build a stacked layer neural network.\n",
        "# Each layer has one input tensor and one output tensor.\n",
        "# Our model has 4 layers: 4 hidden, 1 input, 1 output.\n",
        "model = tf.keras.models.Sequential([\n",
        "  \n",
        "  # INPUT LAYER\n",
        "  # Flattens the multi-dimensional tensor into a 1-dimensional vector of\n",
        "  # length 784 = 28x28\n",
        "  tf.keras.layers.Flatten(input_shape=(28, 28)),\n",
        "  \n",
        "  # HIDDEN LAYERS:\n",
        "  # This layer implements the output = activation(dot(input,kernel)+bias).\n",
        "  # The kernel is a weights matrix created by the layer.\n",
        "  # Bias is a bias vector created by the layer.\n",
        "  tf.keras.layers.Dense(512, activation='relu'),\n",
        "\n",
        "  tf.keras.layers.Dense(256, activation='relu'),\n",
        "\n",
        "  tf.keras.layers.Dense(128, activation='relu'),\n",
        "\n",
        "  # The dropout represents a threshold at which we eliminate some units at random. \n",
        "  # In the final hidden layer, this gives each unit a 50% chance of being eliminated\n",
        "  # at every training step. Helps prevent overfitting.\n",
        "  tf.keras.layers.Dropout(0.2),\n",
        "  \n",
        "  # OUTPUT LAYER: \n",
        "  # Apply softmax function here to satisfy loss function requirements.\n",
        "  tf.keras.layers.Dense(10, activation='softmax')\n",
        "])\n",
        "\n",
        "# List model shape and parameters\n",
        "model.summary()\n",
        "\n",
        "# Return a vector of logits for each class (each of n digits).\n",
        "# Make a prediction using the first image. First n values become initial values\n",
        "# for loss function.\n",
        "predictions = model(x_train[:1]).numpy()\n",
        "#print(x_train[:1])\n",
        "#print(predictions)\n",
        "\n",
        "# Convert logits into probabilities.\n",
        "tf.nn.softmax(predictions).numpy()\n",
        "\n",
        "# Loss function:\n",
        "#    Estimates the loss of the model, so weights can be updated to reduce loss \n",
        "#    next evaluation. Preferred model when working with 2+ classes.\n",
        "#    Requires that the output layer is configured with a node for each class \n",
        "#    (n nodes), and a softmax activation in order to predict the probability for each class.\n",
        "#\n",
        "# These lines define the type of loss function (SCCE) and feed it the true \n",
        "# training labels for x_train[:1] and the predicted label for x_train[:1].\n",
        "loss_fn = tf.keras.losses.SparseCategoricalCrossentropy(from_logits=True)\n",
        "loss_fn(y_train[:1], predictions).numpy()\n",
        "\n",
        "# Adam: Adaptive Movement Estimation\n",
        "# Optimizer: e.g. gradient descent. Determines direction and extent of change.\n",
        "# Loss: estimates loss of system. Used when training the model.\n",
        "# Metrics: Judges the performance of the model (others: probabilistic, regression, T/F)\n",
        "# Metrics are not used when training the model.\n",
        "model.compile(optimizer='adam',\n",
        "              loss='sparse_categorical_crossentropy',\n",
        "              metrics=['accuracy'])\n",
        "\n",
        "# Trains the model, updates weights and biases.\n",
        "model.fit(x_train, y_train, epochs=5)\n",
        "\n",
        "# Determine accuracy and loss using test data\n",
        "model.evaluate(x_test,  y_test, verbose=2)\n",
        "\n",
        "# Predict for first 5 test images\n",
        "model(x_test[:5])"
      ],
      "execution_count": 1,
      "outputs": [
        {
          "output_type": "stream",
          "text": [
            "Downloading data from https://storage.googleapis.com/tensorflow/tf-keras-datasets/mnist.npz\n",
            "11493376/11490434 [==============================] - 0s 0us/step\n",
            "Model: \"sequential\"\n",
            "_________________________________________________________________\n",
            "Layer (type)                 Output Shape              Param #   \n",
            "=================================================================\n",
            "flatten (Flatten)            (None, 784)               0         \n",
            "_________________________________________________________________\n",
            "dense (Dense)                (None, 512)               401920    \n",
            "_________________________________________________________________\n",
            "dense_1 (Dense)              (None, 256)               131328    \n",
            "_________________________________________________________________\n",
            "dense_2 (Dense)              (None, 128)               32896     \n",
            "_________________________________________________________________\n",
            "dropout (Dropout)            (None, 128)               0         \n",
            "_________________________________________________________________\n",
            "dense_3 (Dense)              (None, 10)                1290      \n",
            "=================================================================\n",
            "Total params: 567,434\n",
            "Trainable params: 567,434\n",
            "Non-trainable params: 0\n",
            "_________________________________________________________________\n",
            "Epoch 1/5\n",
            "1875/1875 [==============================] - 12s 6ms/step - loss: 0.3685 - accuracy: 0.8856\n",
            "Epoch 2/5\n",
            "1875/1875 [==============================] - 11s 6ms/step - loss: 0.0940 - accuracy: 0.9730\n",
            "Epoch 3/5\n",
            "1875/1875 [==============================] - 11s 6ms/step - loss: 0.0642 - accuracy: 0.9799\n",
            "Epoch 4/5\n",
            "1875/1875 [==============================] - 11s 6ms/step - loss: 0.0493 - accuracy: 0.9849\n",
            "Epoch 5/5\n",
            "1875/1875 [==============================] - 11s 6ms/step - loss: 0.0391 - accuracy: 0.9876\n",
            "\n",
            "----------Evaluate----------\n",
            "\n",
            "313/313 - 1s - loss: 0.0821 - accuracy: 0.9798\n",
            "\n",
            "------Probability Model------\n",
            "\n"
          ],
          "name": "stdout"
        },
        {
          "output_type": "execute_result",
          "data": {
            "text/plain": [
              "<tf.Tensor: shape=(5, 10), dtype=float32, numpy=\n",
              "array([[4.93457890e-16, 3.51332852e-10, 6.06562300e-11, 4.58143390e-09,\n",
              "        6.14565066e-11, 1.61365367e-14, 1.28872891e-19, 1.00000000e+00,\n",
              "        7.81519988e-11, 1.33350531e-08],\n",
              "       [4.33590582e-13, 3.62838995e-11, 9.99999046e-01, 9.11742347e-07,\n",
              "        1.59440464e-11, 2.57122969e-12, 1.03897828e-11, 4.84622724e-11,\n",
              "        1.44298147e-08, 4.04241629e-14],\n",
              "       [1.70263161e-11, 9.99999762e-01, 1.19841896e-08, 2.19610198e-11,\n",
              "        2.48003644e-08, 2.45190535e-08, 1.13124115e-08, 7.01859859e-09,\n",
              "        1.87569768e-07, 1.10250219e-10],\n",
              "       [1.00000000e+00, 1.19343086e-19, 5.49330199e-11, 5.07314839e-13,\n",
              "        2.16962096e-13, 7.32293891e-13, 1.44188785e-08, 4.13638534e-16,\n",
              "        7.11832123e-14, 4.01041145e-10],\n",
              "       [1.47796975e-09, 6.61504740e-10, 8.08910006e-09, 3.49270543e-11,\n",
              "        9.98916507e-01, 1.71223071e-08, 1.95110886e-10, 5.68065616e-07,\n",
              "        2.12504747e-09, 1.08287192e-03]], dtype=float32)>"
            ]
          },
          "metadata": {
            "tags": []
          },
          "execution_count": 1
        }
      ]
    }
  ]
}