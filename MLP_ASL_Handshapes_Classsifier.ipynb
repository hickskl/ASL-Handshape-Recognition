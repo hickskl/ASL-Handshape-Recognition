{
  "nbformat": 4,
  "nbformat_minor": 0,
  "metadata": {
    "colab": {
      "name": "MLP-ASL-Handshapes-Classsifier.ipynb",
      "provenance": [],
      "collapsed_sections": [],
      "mount_file_id": "1N2QIyyRMlRBbM6Bacm29LJVh-bGTu41B",
      "authorship_tag": "ABX9TyOmYbEKy1bqxtBsNdUHYVzt",
      "include_colab_link": true
    },
    "kernelspec": {
      "name": "python3",
      "display_name": "Python 3"
    },
    "language_info": {
      "name": "python"
    }
  },
  "cells": [
    {
      "cell_type": "markdown",
      "metadata": {
        "id": "view-in-github",
        "colab_type": "text"
      },
      "source": [
        "<a href=\"https://colab.research.google.com/github/hickskl/Beginner-Machine-Learning/blob/main/MLP_ASL_Handshapes_Classsifier.ipynb\" target=\"_parent\"><img src=\"https://colab.research.google.com/assets/colab-badge.svg\" alt=\"Open In Colab\"/></a>"
      ]
    },
    {
      "cell_type": "code",
      "metadata": {
        "colab": {
          "base_uri": "https://localhost:8080/"
        },
        "id": "oqRi7tPzVEk8",
        "outputId": "3ad7c1a5-3753-45d0-f20a-d297dfb7e534"
      },
      "source": [
        "import tensorflow as tf              # math library\n",
        "import numpy as np                   # linear algebra\n",
        "import pandas as pd                  # data processing\n",
        "import seaborn as sns                # plotting\n",
        "import matplotlib.pyplot as plt      # plotting\n",
        "import PIL\n",
        "import PIL.Image\n",
        "import os\n",
        "import pathlib\n",
        "import glob\n",
        "\n",
        "from sklearn.model_selection import train_test_split\n",
        "from sklearn.metrics import confusion_matrix\n",
        "from sklearn.metrics import classification_report,accuracy_score\n",
        "\n",
        "from google.colab import drive\n",
        "drive.mount('/content/drive', force_remount=True)\n",
        "# Currently in /content\n",
        "\n",
        "train_data_path = pathlib.Path(\"drive/MyDrive/Kaggle-Sign-Data/asl_alphabet_train/asl_alphabet_train/\")\n",
        "test_data_path = pathlib.Path(\"drive/MyDrive/Kaggle-Sign-Data/asl_alphabet_test/asl_alphabet_test/\")\n",
        "\n",
        "train_file_paths = list(train_data_path.glob(r'**/*.jpg'))\n",
        "test_file_paths = list(test_data_path.glob(r'**/*.jpg'))"
      ],
      "execution_count": null,
      "outputs": [
        {
          "output_type": "stream",
          "text": [
            "Mounted at /content/drive\n"
          ],
          "name": "stdout"
        }
      ]
    },
    {
      "cell_type": "code",
      "metadata": {
        "id": "boq9pcaDiQQK"
      },
      "source": [
        "# Define MLP Hyperparameters     \n",
        "train_batch_size = 788     # size of training batches, doesn't need to evenly divide\n",
        "val_batch_size = 197       # size of val batch should evenly divide total val images\n",
        "test_batch_size = 251      # size of test batch should evenly divide total test images\n",
        "\n",
        "input_shape = (200, 200)  # dimensions of input images\n",
        "dropout = 0.2             # droupout rate to prevent overfitting\n",
        "learning_rate = 0.001     # default Adam learning rate is 0.001  \n",
        "epochs = 50               # rounds of training\n",
        "\n",
        "sample_fraction = 1.00    # size of sample from full dataset\n",
        "test_size = 0.2           # size of testing set\n",
        "validation_size = 0.2     # size of validation set"
      ],
      "execution_count": null,
      "outputs": []
    },
    {
      "cell_type": "code",
      "metadata": {
        "id": "nd_vxvkQiTpd"
      },
      "source": [
        "# Build dataframe, consisting of 87000 (image filepath, label) pairs\n",
        "def build_dataframe(filepath):\n",
        "    \n",
        "    labels = []\n",
        "    \n",
        "    # Parse labels from file path .../asl_alphabet_train/B/B100.jpg\n",
        "    for i in range(len(filepath)):\n",
        "        labels.append(str(filepath[i]).split(\"/\")[-2])\n",
        "    \n",
        "    # Convert lists to Series objects and concatenate\n",
        "    filepath = pd.Series(filepath, name='Filepath').astype(str)\n",
        "    labels = pd.Series(labels, name='Label')\n",
        "    df = pd.concat([filepath, labels], axis=1)\n",
        "    \n",
        "    # Randomize the DataFrame and reset index\n",
        "    df = df.sample(frac=1).reset_index(drop = True)\n",
        "    \n",
        "    print(df,\"\\n\")\n",
        "    \n",
        "    return df"
      ],
      "execution_count": null,
      "outputs": []
    },
    {
      "cell_type": "code",
      "metadata": {
        "id": "TuOnnmU9kgt7"
      },
      "source": [
        "def generate_image_data():\n",
        "    \n",
        "    # ImageDataGenerators create tensor image data. Data will be looped over in batches.\n",
        "    # Generates train/validate sets. Must know about validation split.\n",
        "    # Training dataframe is further divided into two subsets: training and validation\n",
        "    train_data_generator = tf.keras.preprocessing.image.ImageDataGenerator(\n",
        "        #preprocessing_function=resnet_preproc,\n",
        "        preprocessing_function=tf.keras.applications.mobilenet_v2.preprocess_input,\n",
        "        validation_split=validation_size\n",
        "    )\n",
        "    \n",
        "    test_data_generator = tf.keras.preprocessing.image.ImageDataGenerator(\n",
        "        #preprocessing_function=resnet_preproc,\n",
        "        preprocessing_function=tf.keras.applications.mobilenet_v2.preprocess_input\n",
        "    )\n",
        "\n",
        "    print('Image Sets (train, validation, test):')\n",
        "    \n",
        "    # Images used to train/create the model\n",
        "    train_images = train_data_generator.flow_from_dataframe(\n",
        "        dataframe=train_df,\n",
        "        x_col='Filepath',\n",
        "        y_col='Label',\n",
        "        target_size=input_shape,\n",
        "        color_mode='rgb',\n",
        "        class_mode='categorical',\n",
        "        batch_size=train_batch_size,\n",
        "        shuffle=True,\n",
        "        seed=0,\n",
        "        subset='training',\n",
        "        # Additional Data Augmentation Settings\n",
        "        #rotation_range=30, \n",
        "        #zoom_range=0.15,\n",
        "        #width_shift_range=0.2,\n",
        "        #height_shift_range=0.2,\n",
        "        #shear_range=0.15,\n",
        "        #horizontal_flip=True,\n",
        "        #fill_mode=\"nearest\"\n",
        "    )\n",
        "\n",
        "    # Images used to validate the model before testing. \n",
        "    # Can be used to tune the model's parameters without exposing it to the test set.\n",
        "    # The model is fit on the training set. The fitted model is used to predict the \n",
        "    # responses for the observations in the validation set. The validation set error \n",
        "    # rate is an estimate of the test error rate.\n",
        "    val_images = train_data_generator.flow_from_dataframe(\n",
        "        dataframe=train_df,\n",
        "        x_col='Filepath',\n",
        "        y_col='Label',\n",
        "        target_size=input_shape,\n",
        "        color_mode='rgb',\n",
        "        class_mode='categorical',\n",
        "        batch_size=val_batch_size,\n",
        "        shuffle=True,\n",
        "        seed=0,\n",
        "        subset='validation',\n",
        "        # Additional Data Augmentation Settings\n",
        "        #rotation_range=30,\n",
        "        #zoom_range=0.15,\n",
        "        #width_shift_range=0.2,\n",
        "        #height_shift_range=0.2,\n",
        "        #shear_range=0.15,\n",
        "        #horizontal_flip=True,\n",
        "        #fill_mode=\"nearest\"\n",
        "    )\n",
        "\n",
        "    # Images used to test the model, providing unbiased estimate of the model's accuracy.\n",
        "    test_images = test_data_generator.flow_from_dataframe(\n",
        "        dataframe=test_df,\n",
        "        x_col='Filepath',\n",
        "        y_col='Label',\n",
        "        target_size=input_shape,\n",
        "        color_mode='rgb',\n",
        "        class_mode='categorical',\n",
        "        batch_size=test_batch_size,\n",
        "        shuffle=False\n",
        "    )\n",
        "    \n",
        "    return train_data_generator, test_data_generator, train_images, val_images, test_images"
      ],
      "execution_count": null,
      "outputs": []
    },
    {
      "cell_type": "code",
      "metadata": {
        "colab": {
          "base_uri": "https://localhost:8080/",
          "height": 691
        },
        "id": "u1fu28dzkhmi",
        "outputId": "a1adb533-1f1d-49b4-9196-6437d0911384"
      },
      "source": [
        "# Populate dataframe with (filename, label) pairs\n",
        "df = build_dataframe(train_file_paths)\n",
        "\n",
        "# Split dataset into training and testing data:\n",
        "#    Pull a sample of size sample_fraction from the dataset.\n",
        "#    Test set is test_size proportion of sample, training set is the rest.\n",
        "train_df, test_df = train_test_split(df.sample(frac = sample_fraction), test_size=test_size, random_state=0)\n",
        "\n",
        "# Create data generators and image sets.\n",
        "train_generator,test_generator,train_images,val_images,test_images = generate_image_data()\n",
        "\n",
        "# Confirm data shape\n",
        "print('\\nImage Shape:')\n",
        "for images, labels in train_images:\n",
        "    print(images.shape, labels.shape)\n",
        "    plt.imshow(images[0])\n",
        "    break"
      ],
      "execution_count": null,
      "outputs": [
        {
          "output_type": "stream",
          "text": [
            "                                                Filepath    Label\n",
            "0      drive/MyDrive/Kaggle-Sign-Data/asl_alphabet_tr...        B\n",
            "1      drive/MyDrive/Kaggle-Sign-Data/asl_alphabet_tr...        X\n",
            "2      drive/MyDrive/Kaggle-Sign-Data/asl_alphabet_tr...        H\n",
            "3      drive/MyDrive/Kaggle-Sign-Data/asl_alphabet_tr...        A\n",
            "4      drive/MyDrive/Kaggle-Sign-Data/asl_alphabet_tr...        U\n",
            "...                                                  ...      ...\n",
            "87004  drive/MyDrive/Kaggle-Sign-Data/asl_alphabet_tr...        Y\n",
            "87005  drive/MyDrive/Kaggle-Sign-Data/asl_alphabet_tr...        D\n",
            "87006  drive/MyDrive/Kaggle-Sign-Data/asl_alphabet_tr...        Y\n",
            "87007  drive/MyDrive/Kaggle-Sign-Data/asl_alphabet_tr...  nothing\n",
            "87008  drive/MyDrive/Kaggle-Sign-Data/asl_alphabet_tr...        A\n",
            "\n",
            "[87009 rows x 2 columns] \n",
            "\n",
            "Image Sets (train, validation, test):\n",
            "Found 55686 validated image filenames belonging to 29 classes.\n",
            "Found 13921 validated image filenames belonging to 29 classes.\n",
            "Found 17402 validated image filenames belonging to 29 classes.\n",
            "\n",
            "Image Shape:\n"
          ],
          "name": "stdout"
        },
        {
          "output_type": "stream",
          "text": [
            "Clipping input data to the valid range for imshow with RGB data ([0..1] for floats or [0..255] for integers).\n"
          ],
          "name": "stderr"
        },
        {
          "output_type": "stream",
          "text": [
            "(788, 200, 200, 3) (788, 29)\n"
          ],
          "name": "stdout"
        },
        {
          "output_type": "display_data",
          "data": {
            "image/png": "[encoded data removed]",
            "text/plain": [
              "<Figure size 432x288 with 1 Axes>"
            ]
          },
          "metadata": {
            "tags": [],
            "needs_background": "light"
          }
        }
      ]
    },
    {
      "cell_type": "code",
      "metadata": {
        "colab": {
          "base_uri": "https://localhost:8080/"
        },
        "id": "9wtaoirskjzw",
        "outputId": "83e6e0cb-630b-46ba-e393-b271abe838aa"
      },
      "source": [
        "# Using a Sequential model to build a stacked layer neural network.\n",
        "# Each layer has one input tensor and one output tensor.\n",
        "model = tf.keras.models.Sequential([\n",
        "  \n",
        "  # INPUT LAYER\n",
        "  # Flattens the multi-dimensional image array into a 1-dimensional vector\n",
        "  tf.keras.layers.Flatten(input_shape=(input_shape[0],input_shape[1],3)),\n",
        "  \n",
        "  # HIDDEN LAYERS:\n",
        "  # This layer implements the output = activation(dot(input,kernel)+bias).\n",
        "  #    kernel: a weights matrix created by the layer.\n",
        "  #    bias: a bias vector created by the layer.\n",
        "    \n",
        "  #tf.keras.layers.Dense(512, activation='relu'),\n",
        "\n",
        "  tf.keras.layers.Dense(256, activation='relu'),\n",
        "\n",
        "  tf.keras.layers.Dense(128, activation='relu'),\n",
        "\n",
        "  # The dropout represents a threshold at which we eliminate some units at random. \n",
        "  # In the final hidden layer, this gives each unit a 50% chance of being eliminated\n",
        "  # at every training step. Helps prevent overfitting.\n",
        "  tf.keras.layers.Dropout(dropout),\n",
        "  \n",
        "  # OUTPUT LAYER: \n",
        "  # Apply softmax function here to satisfy loss function requirements.\n",
        "  tf.keras.layers.Dense(29, activation='softmax')\n",
        "])\n",
        "\n",
        "# List model shape and parameters\n",
        "model.summary()\n",
        "\n",
        "# Adam: Adaptive Movement Estimation\n",
        "# Optimizer: e.g. gradient descent. Determines direction and extent of change.\n",
        "# Loss: estimates loss of system. Used when training the model.\n",
        "# Metrics: Judges the performance of the model (others: probabilistic, regression, T/F)\n",
        "# Metrics are not used when training the model.\n",
        "model.compile(optimizer='adam',\n",
        "              loss='categorical_crossentropy',\n",
        "              metrics=['accuracy'])"
      ],
      "execution_count": null,
      "outputs": [
        {
          "output_type": "stream",
          "text": [
            "Model: \"sequential\"\n",
            "_________________________________________________________________\n",
            "Layer (type)                 Output Shape              Param #   \n",
            "=================================================================\n",
            "flatten (Flatten)            (None, 120000)            0         \n",
            "_________________________________________________________________\n",
            "dense (Dense)                (None, 256)               30720256  \n",
            "_________________________________________________________________\n",
            "dense_1 (Dense)              (None, 128)               32896     \n",
            "_________________________________________________________________\n",
            "dropout (Dropout)            (None, 128)               0         \n",
            "_________________________________________________________________\n",
            "dense_2 (Dense)              (None, 29)                3741      \n",
            "=================================================================\n",
            "Total params: 30,756,893\n",
            "Trainable params: 30,756,893\n",
            "Non-trainable params: 0\n",
            "_________________________________________________________________\n"
          ],
          "name": "stdout"
        }
      ]
    },
    {
      "cell_type": "code",
      "metadata": {
        "colab": {
          "base_uri": "https://localhost:8080/"
        },
        "id": "8gH7B_ejkmtD",
        "outputId": "384f2280-5c76-4366-8d9e-ff6ca128662a"
      },
      "source": [
        "# Train the model without validation data\n",
        "#history = model.fit(train_images, epochs=epochs)\n",
        "\n",
        "# Train the model with validation data\n",
        "fit_history = model.fit(train_images, validation_data=val_images, epochs=epochs)\n",
        "\n",
        "# Plot accuracy and losses for training set and validation set\n",
        "fig, axes = plt.subplots(2, 1, figsize=(15, 10))\n",
        "ax = axes.flat\n",
        "\n",
        "pd.DataFrame(fit_history.history)[['accuracy','val_accuracy']].plot(ax=ax[0])\n",
        "ax[0].set_title(\"Accuracy\", fontsize = 15)\n",
        "ax[0].set_ylim(0,1.1)\n",
        "\n",
        "pd.DataFrame(fit_history.history)[['loss','val_loss']].plot(ax=ax[1])\n",
        "ax[1].set_title(\"Loss\", fontsize = 15)\n",
        "plt.show()"
      ],
      "execution_count": null,
      "outputs": [
        {
          "output_type": "stream",
          "text": [
            "Epoch 1/50\n",
            " 5/71 [=>............................] - ETA: 4:43:03 - loss: 14.7389 - accuracy: 0.0571"
          ],
          "name": "stdout"
        }
      ]
    },
    {
      "cell_type": "code",
      "metadata": {
        "id": "7uo1x09EkpNc"
      },
      "source": [
        "# Determine unbiased loss values and metrics for model using test data.\n",
        "(loss, accuracy) = model.evaluate(test_images, verbose=1)\n",
        "print(f'\\nThe final model has prediction accuracy of {accuracy * 100:.2f}% and loss of {loss:.5f}.')"
      ],
      "execution_count": null,
      "outputs": []
    },
    {
      "cell_type": "code",
      "metadata": {
        "id": "-qqXnrH8kuNx"
      },
      "source": [
        "# Predict category for test images and convert to letter labels\n",
        "predictions = model.predict(test_images)\n",
        "predictions = np.argmax(predictions, axis=1)\n",
        "\n",
        "labels = (train_images.class_indices)\n",
        "labels = dict((v,k) for k,v in labels.items())\n",
        "predictions = [labels[k] for k in predictions]\n",
        "\n",
        "# Display sample of test images and predictions\n",
        "fig, axes = plt.subplots(nrows=4, ncols=6, figsize=(20, 12),\n",
        "                        subplot_kw={'xticks': [], 'yticks': []})\n",
        "\n",
        "for i, ax in enumerate(axes.flat):\n",
        "    ax.imshow(plt.imread(test_df.Filepath.iloc[i]))\n",
        "    ax.set_title(f\"True: {test_df.Label.iloc[i].split('_')[0]}\\nPredicted: {predictions[i].split('_')[0]}\", fontsize = 15)\n",
        "plt.tight_layout()\n",
        "plt.show()"
      ],
      "execution_count": null,
      "outputs": []
    },
    {
      "cell_type": "code",
      "metadata": {
        "id": "T-03Vcgfk0Ql"
      },
      "source": [
        "# Analysis: Confusion Matrix\n",
        "#\n",
        "#   Columns: predicted label\n",
        "#      Rows: true label\n",
        "\n",
        "y_test = list(test_df.Label)\n",
        "cf_matrix = confusion_matrix(y_test, predictions, normalize='true')\n",
        "plt.figure(figsize = (17,12))\n",
        "sns.heatmap(cf_matrix, annot=True, xticklabels = sorted(set(y_test)), yticklabels = sorted(set(y_test)),cbar=False)\n",
        "plt.title('Normalized Confusion Matrix', fontsize = 23)\n",
        "plt.xticks(fontsize=12,rotation=45)\n",
        "plt.yticks(fontsize=12)\n",
        "plt.show()"
      ],
      "execution_count": null,
      "outputs": []
    },
    {
      "cell_type": "code",
      "metadata": {
        "id": "KwSAJCeXk3XH"
      },
      "source": [
        "# Analysis: Classification Report\n",
        "#\n",
        "#   precision: the ability of the classifier not commit false positives\n",
        "#   recall: proportion of correct predictions\n",
        "#   f1-score: proportion of true positives compared to (true + false positives).\n",
        "#   support: number of images per category\n",
        "#   accuracy: \n",
        "#   macro avg: averaging unweighted mean per label\n",
        "#   weighted avg: averaging the support-weighted mean per label\n",
        "\n",
        "print(classification_report(y_test, predictions))"
      ],
      "execution_count": null,
      "outputs": []
    },
    {
      "cell_type": "code",
      "metadata": {
        "id": "cc9lyY_Qk5ig"
      },
      "source": [
        "print(f'    Image Total: {df.shape[0]}')\n",
        "print(f' Category Total: {len(df.Label.unique())}')\n",
        "print(f'Images/Category: 3000')\n",
        "print(f'         Labels: {sorted(df.Label.unique())} \\n')\n",
        "\n",
        "# Sample 40 images from dataset\n",
        "fig, axes = plt.subplots(nrows=4, ncols=10, figsize=(15, 7),\n",
        "                        subplot_kw={'xticks': [], 'yticks': []})\n",
        "\n",
        "for i, ax in enumerate(axes.flat):\n",
        "    ax.imshow(plt.imread(df.Filepath[i]))\n",
        "    ax.set_title(df.Label[i])\n",
        "plt.tight_layout(pad=.5)\n",
        "plt.show()"
      ],
      "execution_count": null,
      "outputs": []
    }
  ]
}